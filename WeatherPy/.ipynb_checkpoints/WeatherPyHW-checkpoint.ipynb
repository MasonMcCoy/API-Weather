{
 "cells": [
  {
   "cell_type": "code",
   "execution_count": 43,
   "metadata": {},
   "outputs": [],
   "source": [
    "import requests\n",
    "import json\n",
    "import numpy as np\n",
    "from citipy import citipy\n",
    "\n",
    "api_key = '&appid=4b9ae179b18c6c494e342b8d5938274b'\n",
    "city = 'chicago'\n",
    "base_url = 'https://api.openweathermap.org/data/2.5/weather?q='"
   ]
  },
  {
   "cell_type": "code",
   "execution_count": 30,
   "metadata": {},
   "outputs": [
    {
     "name": "stdout",
     "output_type": "stream",
     "text": [
      "['ewa beach', 'harper', 'rikitea', 'pangkalanbuun', 'iqaluit', 'port alfred', 'hobart', 'vaini', 'poniatowa', 'chokurdakh', 'ribeira grande', 'mataura', 'mys shmidta', 'tasiilaq', 'nikolskoye', 'yuci', 'port lincoln', 'puerto ayora', 'vila velha', 'galveston', 'hilo', 'dzilam gonzalez', 'thompson', 'maningrida', 'klaksvik', 'amderma', 'busselton', 'yellowknife', 'upernavik', 'hithadhoo', 'kirakira', 'punta arenas', 'narsaq', 'krasnoselkup', 'port elizabeth', 'susanville', 'kuche', 'khatanga', 'butaritari', 'ushuaia', 'georgetown', 'hermanus', 'bikramganj', 'castro', 'hasaki', 'san patricio', 'aklavik', 'fort-shevchenko', 'saint george', 'souillac', 'saint-philippe', 'albany', 'sam roi yot', 'longyearbyen', 'mersing', 'walvis bay', 'marcona', 'hamilton', 'tidore', 'bull savanna', 'avarua', 'belaya gora', 'pundaguitan', 'yamoto', 'umm ruwabah', 'waipawa', 'noyabrsk', 'barentsburg', 'pecos', 'bredasdorp', 'natal', 'katsuura', 'chanika', 'dingle', 'kodinsk', 'kaitangata', 'kindia', 'taolanaro', 'half moon bay', 'cape town', 'isangel', 'korla', 'esperance', 'kamaishi', 'belushya guba', 'khandbari', 'jian', 'haibowan', 'sao joao da barra', 'meyungs', 'chuy', 'kapaa', 'leningradskiy', 'rurrenabaque', 'tacuati', 'lazaro cardenas', 'los llanos de aridane', 'mendoza', 'mao', 'bathsheba', 'richards bay', 'sorvag', 'alotau', 'ushtobe', 'jamestown', 'tumannyy', 'te anau', 'edgewater', 'tuggurt', 'luderitz', 'saleaula', 'praia', 'chaman', 'barrow', 'bilma', 'banswara', 'nizhneyansk', 'villacarrillo', 'lebu', 'ugoofaaru', 'pareora', 'daru', 'lac du bonnet', 'acapulco', 'tual', 'saskylakh', 'araci', 'kijang', 'bluff', 'mendahara', 'new norfolk', 'cayenne', 'tilichiki', 'omboue', 'mar del plata', 'port blair', 'mantua', 'atuona', 'lasa', 'victoria', 'el bagre', 'ayan', 'kodiak', 'lagoa', 'faanui', 'vao', 'ponta do sol', 'carnarvon', 'robertsport', 'davenda', 'ancud', 'kavieng', 'yichang', 'vaitupu', 'dicabisagan', 'maltahohe', 'moerai', 'lumut', 'bilibino', 'bar-le-duc', 'lompoc', 'berlevag', 'hokitika', 'aktau', 'shelburne', 'pevek', 'tuktoyaktuk', 'guia de isora', 'muros', 'arraial do cabo', 'tuatapere', 'myski', 'novi pazar', 'ostrovnoy', 'geraldton', 'nanortalik', 'gazanjyk', 'mayo', 'smithers', 'pangnirtung', 'najran', 'provideniya', 'socorro', 'mecca', 'guerrero negro', 'ahuimanu', 'baykit', 'sept-iles', 'vardo', 'gamba', 'wahran', 'attawapiskat', 'christchurch', 'east london', 'bukachacha', 'vadnagar', 'severomuysk', 'umtata', 'kenai', 'haines junction', 'kruisfontein', 'malwan', 'inirida', 'namatanai', 'atlantis', 'bundaberg', 'torbay', 'araouane', 'rawson', 'dunedin', 'asau', 'tarana', 'ust-uda', 'manaure', 'itarema', 'hambantota', 'kjollefjord', 'potosi', 'mount isa', 'illoqqortoormiut', 'matara', 'samarai', 'mahebourg', 'caramay', 'usinsk', 'airai', 'turayf', 'faya', 'sri aman', 'tonj', 'henties bay', 'samusu', 'san carlos de bariloche', 'sitka', 'rozavlea', 'bethel', 'chiplun', 'acari', 'araguatins', 'jacqueville', 'catamarca', 'kibre mengist', 'coihaique', 'salalah', 'bandarbeyla', 'santa vitoria do palmar', 'killin', 'rungata', 'cabo san lucas', 'sao jose de mipibu', 'opotiki', 'north platte', 'la ronge', 'touros', 'ahipara', 'sao gotardo', 'buraydah', 'dymer', 'nome', 'jinxiang', 'dickinson', 'broome', 'villafranca de los barros', 'termoli', 'komsomolskiy', 'ziway', 'tungawan', 'clyde river', 'udachnyy', 'vryheid', 'santa lucia', 'tokur', 'mount gambier', 'khasan', 'cidreira', 'vila', 'huarmey', 'kahului', 'arica', 'tucurui', 'killorglin', 'yumen', 'falealupo', 'kutum', 'qaanaaq', 'marzuq', 'phan rang', 'flinders', 'port-de-paix', 'makakilo city', 'ambilobe', 'yamada', 'mkushi', 'thiers', 'mizdah', 'bolungarvik', 'tadine', 'sataua', 'beringovskiy', 'shu', 'along', 'mackay', 'deming', 'killarney', 'dikson', 'urengoy', 'la asuncion', 'solsvik', 'omidiyeh', 'bafra', 'hope', 'marystown', 'feijo', 'hovd', 'khonuu', 'taoudenni', 'meulaboh', 'constitucion', 'yirol', 'pisco', 'kamenskoye', 'kloulklubed', 'arman', 'urucara', 'marsa matruh', 'chenghai', 'nishihara', 'chicama', 'praia da vitoria', 'ilhabela', 'saldanha', 'bonnyville', 'sistranda', 'naze', 'seddon', 'paramonga', 'saint-augustin', 'spinus', 'berezanka', 'zhanatas', 'prado', 'fortuna', 'kemijarvi', 'dixon', 'layou', 'lavrentiya', 'hamina', 'sopotu nou', 'sentyabrskiy', 'grand river south east', 'ginir', 'gaoua', 'hofn', 'geresk', 'tiksi', 'roebourne', 'lapua', 'aksarka', 'choya', 'basco', 'paka', 'poco verde', 'scarborough', 'milingimbi', 'ust-karsk', 'piste', 'port hawkesbury', 'makeni', 'curanilahue', 'necochea', 'methoni', 'tautira', 'louisbourg', 'svarstad', 'adrar', 'whitehorse', 'sao filipe', 'yaan', 'vila franca do campo', 'kisangani', 'doge', 'yerbogachen', 'beyneu', 'charters towers', 'nampa', 'tiznit', 'comodoro rivadavia', 'mundargi', 'tsihombe', 'brigantine', 'toamasina', 'odweyne', 'kailua', 'biak', 'nouadhibou', 'saquena', 'san cristobal', 'rayachoti', 'nago', 'manitouwadge', 'havelock', 'cockburn town', 'damaturu', 'trelew', 'fairbanks', 'matay', 'farrukhnagar', 'kaman', 'riyadh', 'springbok', 'tocopilla', 'wad madani', 'batagay-alyta', 'kirensk', 'tezu', 'tasbuget', 'gorontalo', 'zhangjiakou', 'santa cruz', 'qaqortoq', 'tessalit', 'doha', 'yulara', 'luena', 'jiaozuo', 'potsdam', 'plettenberg bay', 'alacranes', 'safaga', 'castanos', 'hidalgo', 'lamar', 'khaniotis', 'pio xii', 'tevaitoa', 'jalu', 'mahdasht', 'ilulissat', 'vila do maio', 'shimoda', 'pacific grove', 'wajir', 'fuxin', 'sandwick', 'hobyo', 'poum', 'santiago', 'sahuaripa', 'marsh harbour', 'aljezur', 'paita', 'pelym', 'annau', 'teguldet', 'nioki', 'glenwood springs', 'naryan-mar', 'pemangkat', 'drayton valley', 'porto novo', 'uinskoye', 'marinette', 'olafsvik', 'bexhill', 'mathathane', 'buenos aires', 'zwedru', 'micheweni', 'ozgon', 'tura', 'maebaru', 'glotovka', 'vilcun', 'kaeo', 'khani', 'banepa', 'mogadishu', 'wamba', 'vanimo', 'copala', 'bubaque', 'sampit', 'talnakh', 'basoko', 'alexandria', 'mocambique', 'luganville', 'boca do acre', 'ust-ishim', 'bengkulu', 'bambous virieux', 'alofi', 'tesistan', 'anzhero-sudzhensk', 'papara', 'agropoli', 'sakakah', 'saraland', 'ulladulla', 'pietarsaari', 'grindavik', 'flin flon', 'valparaiso', 'kasane', 'uberlandia', 'hearst', 'okhotsk', 'stornoway', 'lar gerd', 'gondanglegi', 'oksfjord', 'nampula', 'lujan', 'ikongo', 'morant bay', 'srednekolymsk', 'gravdal', 'san nicolas', 'viedma', 'yar-sale', 'kryve ozero', 'mmabatho', 'tecpan', 'fare', 'pimentel', 'mitsamiouli', 'gavle', 'antofagasta', 'viligili', 'bridlington', 'shar', 'honningsvag', 'gaurela', 'angarsk', 'taylorville', 'manzhouli', 'codrington', 'yongchang', 'norman wells', 'kilindoni', 'spornoye', 'nuevo casas grandes', 'ryotsu', 'gornopravdinsk', 'ilawa', 'rolim de moura', 'calatayud', 'eyl', 'ketou', 'gimli', 'rafaela', 'ranfurly', 'palabuhanratu', 'lorengau', 'idappadi', 'batagay', 'majene', 'karratha', 'raudeberg', 'santa maria', 'puerto rico', 'namibe', 'karkaralinsk', 'lingyuan', 'thinadhoo', 'halifax', 'vagur', 'nema', 'nemuro', 'moratuwa', 'sibu', 'mlonggo', 'bouar', 'munger', 'egvekinot', 'kupang', 'sayville', 'salinas', 'apac', 'satitoa', 'batsfjord', 'guozhen', 'wilkie', 'muisne', 'tsilna', 'zhezkazgan', 'lisakovsk', 'pedernales', 'stuartfield', 'easley', 'darovskoy', 'xuddur', 'susuman', 'abu kamal', 'paamiut', 'galiwinku', 'sokolo', 'sisimiut', 'caravelas', 'ruatoria', 'mayumba', 'ixtapa', 'san ramon', 'malartic', 'palmer', 'goma', 'nasturelu', 'caruray', 'takoradi', 'killybegs', 'san javier', 'mingaora', 'cherskiy', 'mayor pablo lagerenza', 'malyi', 'luwuk', 'burgeo', 'sobolevo', 'la macarena', 'pitkyaranta', 'rio gallegos']\n"
     ]
    }
   ],
   "source": [
    "# Range of latitudes and longitudes\n",
    "lat_range = (-90, 90)\n",
    "lng_range = (-180, 180)\n",
    "\n",
    "# Empty lists\n",
    "lat_lngs = []\n",
    "cities = []\n",
    "\n",
    "# Create a set of random lat and lng combinations\n",
    "lats = np.random.uniform(lat_range[0], lat_range[1], size=1500)\n",
    "lngs = np.random.uniform(lng_range[0], lng_range[1], size=1500)\n",
    "lat_lngs = zip(lats, lngs)\n",
    "\n",
    "# Identify nearest city for each lat, lng combination\n",
    "for lat_lng in lat_lngs:\n",
    "    city = citipy.nearest_city(lat_lng[0], lat_lng[1]).city_name\n",
    "    \n",
    "    # If the city is unique, then add it to a our cities list\n",
    "    if city not in cities:\n",
    "        cities.append(city)\n",
    "\n",
    "# Print the city count to confirm sufficient count\n",
    "print(cities)"
   ]
  },
  {
   "cell_type": "code",
   "execution_count": 46,
   "metadata": {},
   "outputs": [
    {
     "name": "stdout",
     "output_type": "stream",
     "text": [
      "Beginning Data Retrieval\n",
      "-----------------------------\n"
     ]
    }
   ],
   "source": [
    "print('Beginning Data Retrieval')\n",
    "print('-----------------------------')\n",
    "\n",
    "def getWeather(city):\n",
    "    return requests.get(f'https://api.openweathermap.org/data/2.5/weather?q={city}&appid=4b9ae179b18c6c494e342b8d5938274b').json()"
   ]
  },
  {
   "cell_type": "code",
   "execution_count": 59,
   "metadata": {},
   "outputs": [
    {
     "name": "stdout",
     "output_type": "stream",
     "text": [
      "‘Ewa Beach\n",
      "Harper\n",
      "Rikitea\n",
      "Pangkalanbuun\n",
      "Iqaluit\n",
      "Port Alfred\n",
      "Hobart\n",
      "Vaini\n",
      "Poniatowa\n",
      "Chokurdakh\n",
      "Ribeira Grande\n",
      "Mataura\n",
      "City not found. Skipping...\n"
     ]
    }
   ],
   "source": [
    "try:\n",
    "    for city in cities:\n",
    "        print(getWeather(city)['name'])\n",
    "except KeyError:\n",
    "    print('City not found. Skipping...')\n",
    "    "
   ]
  },
  {
   "cell_type": "code",
   "execution_count": 8,
   "metadata": {},
   "outputs": [
    {
     "data": {
      "text/plain": [
       "{'coord': {'lon': -87.65, 'lat': 41.85},\n",
       " 'weather': [{'id': 501,\n",
       "   'main': 'Rain',\n",
       "   'description': 'moderate rain',\n",
       "   'icon': '10d'}],\n",
       " 'base': 'stations',\n",
       " 'main': {'temp': 279.01,\n",
       "  'feels_like': 274.26,\n",
       "  'temp_min': 278.71,\n",
       "  'temp_max': 279.26,\n",
       "  'pressure': 1022,\n",
       "  'humidity': 81},\n",
       " 'visibility': 10000,\n",
       " 'wind': {'speed': 4.6, 'deg': 310},\n",
       " 'rain': {'1h': 2.25},\n",
       " 'clouds': {'all': 90},\n",
       " 'dt': 1603056784,\n",
       " 'sys': {'type': 1,\n",
       "  'id': 4861,\n",
       "  'country': 'US',\n",
       "  'sunrise': 1603022805,\n",
       "  'sunset': 1603062252},\n",
       " 'timezone': -18000,\n",
       " 'id': 4887398,\n",
       " 'name': 'Chicago',\n",
       " 'cod': 200}"
      ]
     },
     "execution_count": 8,
     "metadata": {},
     "output_type": "execute_result"
    }
   ],
   "source": [
    "#working API call for city weather\n",
    "weather_data = requests.get(url).json()\n",
    "weather_data"
   ]
  },
  {
   "cell_type": "code",
   "execution_count": null,
   "metadata": {},
   "outputs": [],
   "source": []
  }
 ],
 "metadata": {
  "kernelspec": {
   "display_name": "Python 3",
   "language": "python",
   "name": "python3"
  },
  "language_info": {
   "codemirror_mode": {
    "name": "ipython",
    "version": 3
   },
   "file_extension": ".py",
   "mimetype": "text/x-python",
   "name": "python",
   "nbconvert_exporter": "python",
   "pygments_lexer": "ipython3",
   "version": "3.8.3"
  }
 },
 "nbformat": 4,
 "nbformat_minor": 4
}
